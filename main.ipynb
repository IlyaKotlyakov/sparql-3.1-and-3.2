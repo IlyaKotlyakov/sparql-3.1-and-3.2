{
 "cells": [
  {
   "cell_type": "code",
   "execution_count": 1,
   "metadata": {},
   "outputs": [],
   "source": [
    "import numpy as np\n",
    "import pandas as pd\n",
    "import math\n",
    "import json"
   ]
  },
  {
   "cell_type": "code",
   "execution_count": 2,
   "metadata": {},
   "outputs": [
    {
     "name": "stdout",
     "output_type": "stream",
     "text": [
      "    Movie 1  Movie 2  Movie 3  Movie 4  Movie 5  Movie 6  Movie 7  Movie 8  \\\n",
      "0        -1        4        1        5       -1       -1       -1        1   \n",
      "1         4        5        2        3        3        4       -1        5   \n",
      "2         4        2        5        4        1        5       -1        3   \n",
      "3         5       -1        2       -1       -1        2        4        3   \n",
      "4         4        3        3        3        5        3        3        4   \n",
      "5         2       -1        3        3        3        3        4        2   \n",
      "6         4        1        4        4        1        4        5        2   \n",
      "7        -1        5        5        3        3        3        3        3   \n",
      "8         1        2        3        1        5        3        3        1   \n",
      "9         5       -1        1       -1        3        3        4        1   \n",
      "10       -1        5       -1        1        5        2        4        2   \n",
      "11        5        4        4       -1        3       -1        5        5   \n",
      "12        1        1        4        5        4        3        5        5   \n",
      "13        3        5        4       -1        1        2        4       -1   \n",
      "14        3        5        3        4        4       -1        4        4   \n",
      "15        3        3        5        3        2        2        5       -1   \n",
      "16        1        1       -1       -1        4        4       -1       -1   \n",
      "17        4        3        3        2        1        5        3        4   \n",
      "18        4        3        5        5        4        4       -1       -1   \n",
      "19        2       -1        2        5       -1       -1        1       -1   \n",
      "20       -1        2        1        2        3        5        4        1   \n",
      "21        2        4        4       -1        4       -1        4        5   \n",
      "22        5        1       -1        5        5       -1       -1        5   \n",
      "23        5        4        2       -1        2        1        3        2   \n",
      "24        3        1       -1        4        2       -1        4        1   \n",
      "25        1        5       -1        3       -1        2        4       -1   \n",
      "26        4        4        3       -1        4        5        3        4   \n",
      "27       -1       -1        4        2        3        2        1        4   \n",
      "28        3        2        4        2        2        2        4        1   \n",
      "29        2        3        5        4        1        3        3        2   \n",
      "30        3        5        4        5        1        3        3        3   \n",
      "31        5        4        5        4        1        5        5        4   \n",
      "32        5        3        4        4        2        1        3        1   \n",
      "33       -1        5       -1       -1        1       -1        5        1   \n",
      "34        4       -1        5        4        2        2        3        1   \n",
      "35        3        2       -1        5        5        1        5        2   \n",
      "36       -1        4       -1        3        1        4        5        4   \n",
      "37        3       -1        1        4        2        3        4       -1   \n",
      "38        1       -1        5       -1        1        2        3       -1   \n",
      "39       -1        1        1        1        1       -1        4        1   \n",
      "\n",
      "    Movie 9  Movie 10  ...  Movie 21  Movie 22  Movie 23  Movie 24  Movie 25  \\\n",
      "0         3        -1  ...         2         4        -1        -1         3   \n",
      "1         3         2  ...        -1         2        -1         3         1   \n",
      "2         5         2  ...         4        -1         5         4         5   \n",
      "3         2         3  ...        -1         2         2         2         2   \n",
      "4         5         2  ...         4         5         2        -1         3   \n",
      "5        -1         1  ...         5        -1         1         3        -1   \n",
      "6         2        -1  ...         2         5         1         3         4   \n",
      "7         1         2  ...        -1         3         1         3         2   \n",
      "8         2         5  ...         3         2         3        -1         1   \n",
      "9         1         2  ...         4         1         4         1         4   \n",
      "10        4        -1  ...         4        -1         3         4         1   \n",
      "11        5         3  ...         1         4         1         5         3   \n",
      "12        5         4  ...         2         3         2        -1         4   \n",
      "13       -1         4  ...         4         1         5         4         1   \n",
      "14        2         1  ...         2         2         5         1         3   \n",
      "15        4         4  ...         1         3         4        -1         4   \n",
      "16        1         1  ...         4         2         4         2         2   \n",
      "17        5         2  ...        -1         4         5         2         1   \n",
      "18        4         4  ...         2         3         1         2        -1   \n",
      "19        2        -1  ...        -1         2         4         1        -1   \n",
      "20        2         3  ...        -1         5         1         2         5   \n",
      "21        5         4  ...         4         5         1        -1        -1   \n",
      "22       -1         3  ...        -1        -1         3         1         5   \n",
      "23        1         2  ...         4         2         2         1         3   \n",
      "24        5         3  ...         2        -1         5         5         2   \n",
      "25        4         2  ...         5         3         1         5         2   \n",
      "26        3        -1  ...        -1         3         4         3        -1   \n",
      "27       -1         1  ...         1         3         2         1         4   \n",
      "28        3         3  ...         3        -1         3         5         5   \n",
      "29        3         1  ...         4         5         1         1         4   \n",
      "30        4         1  ...         5         4         4         3         5   \n",
      "31        4        -1  ...         5         2        -1         2         3   \n",
      "32        3         3  ...         2         1         5         5         2   \n",
      "33        1         5  ...         3         3         4        -1         3   \n",
      "34        1         5  ...         5         1         2         1         5   \n",
      "35        1         5  ...        -1         2         4         3         4   \n",
      "36        3         3  ...         3         3        -1         5        -1   \n",
      "37        5         3  ...         5         4         3        -1         1   \n",
      "38        2         5  ...         4         2         5         2         3   \n",
      "39       -1         3  ...         3         5         4         2         3   \n",
      "\n",
      "    Movie 26  Movie 27  Movie 28  Movie 29  Movie 30  \n",
      "0          4        -1         2         4         1  \n",
      "1          5        -1         5         2         2  \n",
      "2          1         2         1        -1         3  \n",
      "3          5         3         2         5         5  \n",
      "4          5         1        -1         5        -1  \n",
      "5          4         4         5         1         2  \n",
      "6         -1         4         3         1         4  \n",
      "7          1         4        -1         1         3  \n",
      "8          4         3         1         5         3  \n",
      "9          5         2         3        -1         1  \n",
      "10         2         4         2         5         1  \n",
      "11         5         4         3         5         5  \n",
      "12         3        -1         5         5         4  \n",
      "13        -1         3         1         5         3  \n",
      "14         4        -1        -1         5         4  \n",
      "15         4         4         2         4         4  \n",
      "16        -1         5         4         5         3  \n",
      "17         1         2         1        -1         4  \n",
      "18         2         5         1         2         1  \n",
      "19         2         2         3         3         4  \n",
      "20         5         4         4         2        -1  \n",
      "21         5         2         2         5        -1  \n",
      "22        -1         1         5         3         5  \n",
      "23         2         5         2         5         4  \n",
      "24        -1         1         3         1         2  \n",
      "25        -1         2         2         4        -1  \n",
      "26         3         2         3         2         5  \n",
      "27         3         2         4         2         1  \n",
      "28         5         4        -1         5        -1  \n",
      "29         5         3         1         3         5  \n",
      "30         2         2         4         4        -1  \n",
      "31         2         1         3         1        -1  \n",
      "32        -1         2         1         4         2  \n",
      "33         1         5         2         2         5  \n",
      "34         5         1        -1         5         5  \n",
      "35         5         2         1         3         4  \n",
      "36         5         2         3         5        -1  \n",
      "37         4         3        -1        -1         4  \n",
      "38         1         2         1         2         1  \n",
      "39         4         5         5         3         2  \n",
      "\n",
      "[40 rows x 30 columns]\n"
     ]
    }
   ],
   "source": [
    "#считываем данные об оценках из файла, нулевой столбец удалаем за ненадобностью \n",
    "#(учитываем, что номер строки на 1 меньше, чем номер User'a, поэтому User 17 находится в 16 строке)\n",
    "data = pd.read_csv('data.csv', delimiter=', ', engine='python')\n",
    "kNN = 4\n",
    "myUserIndex = 16\n",
    "\n",
    "data = data.drop(columns=[data.columns[0]])\n",
    "print(data)"
   ]
  },
  {
   "cell_type": "code",
   "execution_count": 3,
   "metadata": {},
   "outputs": [
    {
     "name": "stdout",
     "output_type": "stream",
     "text": [
      "3.0\n"
     ]
    }
   ],
   "source": [
    "#определяем среднюю оценку выбранного по заданию человека\n",
    "myUserSum=0\n",
    "myUserCount=0\n",
    "for column in data:   \n",
    "    if data[column][myUserIndex] != -1:\n",
    "        myUserSum+=data[column][myUserIndex]\n",
    "        myUserCount+=1\n",
    "avg_ru=myUserSum/myUserCount\n",
    "print(avg_ru)\n",
    "    "
   ]
  },
  {
   "cell_type": "code",
   "execution_count": 4,
   "metadata": {},
   "outputs": [],
   "source": [
    "sim = dict.fromkeys(list(data.index) , -1)\n"
   ]
  },
  {
   "cell_type": "code",
   "execution_count": 5,
   "metadata": {},
   "outputs": [
    {
     "name": "stdout",
     "output_type": "stream",
     "text": [
      "{0: 0.819, 1: 0.805, 2: 0.715, 3: 0.862, 4: 0.808, 5: 0.883, 6: 0.773, 7: 0.81, 8: 0.87, 9: 0.826, 10: 0.835, 11: 0.822, 12: 0.807, 13: 0.758, 14: 0.809, 15: 0.838, 16: -1, 17: 0.725, 18: 0.769, 19: 0.899, 20: 0.822, 21: 0.803, 22: 0.815, 23: 0.851, 24: 0.765, 25: 0.781, 26: 0.875, 27: 0.856, 28: 0.809, 29: 0.731, 30: 0.802, 31: 0.644, 32: 0.725, 33: 0.802, 34: 0.803, 35: 0.827, 36: 0.834, 37: 0.815, 38: 0.793, 39: 0.889}\n"
     ]
    }
   ],
   "source": [
    "#определяем метрику сходства для всех людей по сравнению с нашим человеком\n",
    "for i, row in data.iterrows():\n",
    "    if (i == myUserIndex):\n",
    "        continue\n",
    "    sum_uivi = 0\n",
    "    sum_ui2 = 0\n",
    "    sum_vi2 = 0\n",
    "    for film in row.keys():\n",
    "        if (data[film][myUserIndex]!=-1) and (row[film]!=-1):\n",
    "            sum_uivi += data[film][myUserIndex]*data[film][i]\n",
    "            sum_ui2 += data[film][myUserIndex]*data[film][myUserIndex]\n",
    "            sum_vi2 += data[film][i]*data[film][i]\n",
    "    sim[i] = round(sum_uivi/(math.sqrt(sum_ui2)*math.sqrt(sum_vi2)), 3)\n",
    "print(sim)"
   ]
  },
  {
   "cell_type": "code",
   "execution_count": 6,
   "metadata": {},
   "outputs": [
    {
     "name": "stdout",
     "output_type": "stream",
     "text": [
      "{19: 0.899, 39: 0.889, 5: 0.883, 26: 0.875}\n"
     ]
    }
   ],
   "source": [
    "#сортируем людей по наибольшей совместимости с нашим человеком и выбираем первых четырёх из них\n",
    "kNN_sim = dict(sorted(list(sim.items()), key=lambda x: x[1], reverse=True)[:kNN])\n",
    "print(kNN_sim)"
   ]
  },
  {
   "cell_type": "code",
   "execution_count": 7,
   "metadata": {},
   "outputs": [
    {
     "name": "stdout",
     "output_type": "stream",
     "text": [
      "{'Movie 3': -1, 'Movie 4': -1, 'Movie 7': -1, 'Movie 8': -1, 'Movie 11': -1, 'Movie 12': -1, 'Movie 18': -1, 'Movie 26': -1}\n"
     ]
    }
   ],
   "source": [
    "#определяем фильмы без оценок для человека с индексом 17\n",
    "unrated_movies = {}\n",
    "for column in data:   \n",
    "    if data[column][myUserIndex] == -1:\n",
    "        unrated_movies[column] = -1\n",
    "print(unrated_movies)"
   ]
  },
  {
   "cell_type": "code",
   "execution_count": 8,
   "metadata": {},
   "outputs": [
    {
     "name": "stdout",
     "output_type": "stream",
     "text": [
      "{'Movie 3': 2.086, 'Movie 4': 2.906, 'Movie 7': 2.834, 'Movie 8': 2.174, 'Movie 11': 3.102, 'Movie 12': 4.086, 'Movie 18': 3.327, 'Movie 26': 3.087}\n"
     ]
    }
   ],
   "source": [
    "#считаем оценки для неоценённых фильмов по формуле\n",
    "for movie in unrated_movies:\n",
    "    sum_top = 0\n",
    "    sum_bottom = 0\n",
    "    for key in kNN_sim:       \n",
    "        avg_rv = 0\n",
    "        sum_rv = 0\n",
    "        count_rv = 0\n",
    "        for column in data:\n",
    "            if data[column][key] != -1:\n",
    "                sum_rv += data[column][key]\n",
    "                count_rv += 1\n",
    "        avg_rv = sum_rv/count_rv if count_rv!=0 else 0\n",
    "        \n",
    "        if data[movie][key] != -1:\n",
    "            sum_top += kNN_sim[key]*(data[movie][key] - avg_rv)\n",
    "            #print(data[movie][key], avg_rv, key)\n",
    "            sum_bottom += kNN_sim[key]\n",
    "    unrated_movies[movie] = round(avg_ru+sum_top/sum_bottom, 3)\n",
    "\n",
    "print(unrated_movies)"
   ]
  },
  {
   "cell_type": "code",
   "execution_count": 9,
   "metadata": {},
   "outputs": [],
   "source": [
    "#считываем данные о дне и месте просмотра в датафреймы\n",
    "dataDays = pd.read_csv('context_day.csv', delimiter=', ', engine='python')\n",
    "dataDays = dataDays.drop(columns=[dataDays.columns[0]])\n",
    "dataPlaces = pd.read_csv('context_place.csv', delimiter=', ', engine='python')\n",
    "dataPlaces = dataPlaces.drop(columns=[dataPlaces.columns[0]])\n",
    "weekend = ['Sat', 'Sun']\n",
    "home = 'h'"
   ]
  },
  {
   "cell_type": "code",
   "execution_count": 10,
   "metadata": {},
   "outputs": [
    {
     "name": "stdout",
     "output_type": "stream",
     "text": [
      "{'Movie 3': 5.086, 'Movie 4': 2.906, 'Movie 7': 5.834, 'Movie 8': 6.174, 'Movie 11': 4.102, 'Movie 12': 9.086, 'Movie 18': 8.327, 'Movie 26': 6.087}\n"
     ]
    }
   ],
   "source": [
    "#аналогично учтём влияние тех людей, которые посмотрели неоценённые фильмы дома и/или в выходные:\n",
    "#по той же формуле со слайда 6 посчитаем отношения (SUM(sim_vu*(rvi_h - avg_rv_h))/SUM(sim_vu)) и \n",
    "#(SUM(sim_vu*(rvi_w - avg_rv_w))/SUM(sim_vu)), и добавим их к существующим оценкам для фильмов (unrated_movies)\n",
    "#rvi_h - оценка фильма, который был посмотрен из дома\n",
    "#avg_rv_h - средняя оценка фильмов, посмотренных из дома (для конкретного человека)\n",
    "#rvi_h - оценка фильма, который был посмотрен на выходных\n",
    "#avg_rv_h - средняя оценка фильмов, посмотренных на выходных (для конкретного человека)\n",
    "#данные оценки будем считать так же только для наиболее схожих с моим человеком людей (kNN_sim)\n",
    "#учитывать будем только оценки фильмов, которые были посмотрены \n",
    "#дома/на выходных (в зависимости от того, какое из отношений считаем)\n",
    "#с учётом допольнительных показателей оценка фильма может привысить 5\n",
    "\n",
    "new_unrated_movies = unrated_movies.copy()\n",
    "for movie in unrated_movies:\n",
    "    sum_top_h = 0\n",
    "    sum_bottom_h = 0\n",
    "    sum_top_w = 0\n",
    "    sum_bottom_w = 0\n",
    "    for key in kNN_sim:       \n",
    "        avg_rv_h = 0\n",
    "        sum_rv_h = 0\n",
    "        count_rv_h = 0\n",
    "        avg_rv_w = 0\n",
    "        sum_rv_w = 0\n",
    "        count_rv_w = 0\n",
    "        for column in data:\n",
    "            if data[column][key] != -1 and (dataDays[column][key]== 'Sat' or dataDays[column][key]== 'Sun'):\n",
    "                sum_rv_w += data[column][key]\n",
    "                count_rv_w += 1\n",
    "            if data[column][key] != -1 and dataPlaces[column][key]== 'h':\n",
    "                sum_rv_w += data[column][key]\n",
    "                count_rv_w += 1\n",
    "        avg_rv_h = sum_rv_h/count_rv_h if count_rv_h!=0 else 0\n",
    "        avg_rv_w = sum_rv_w/count_rv_w if count_rv_w!=0 else 0\n",
    "        \n",
    "        if data[movie][key] != -1:\n",
    "            if dataDays[column][key]== 'Sat' or dataDays[column][key]== 'Sun':\n",
    "                sum_top_w += kNN_sim[key]*(data[movie][key] - avg_rv_w)\n",
    "                sum_bottom_w += kNN_sim[key]\n",
    "                #print(\"weekend\",data[movie][key] - avg_rv_w, key, movie)\n",
    "            if dataPlaces[column][key]== 'h':\n",
    "                sum_top_h += kNN_sim[key]*(data[movie][key] - avg_rv_h)\n",
    "                sum_bottom_h += kNN_sim[key]\n",
    "                #print(\"home\",data[movie][key] - avg_rv_h, key, movie)\n",
    "    \n",
    "    new_unrated_movies[movie] = round(unrated_movies[movie]+(sum_top_h/sum_bottom_h if sum_bottom_h != 0 else 0) + (sum_top_w/sum_bottom_w if sum_bottom_w != 0 else 0), 3)\n",
    "\n",
    "print(new_unrated_movies)"
   ]
  },
  {
   "cell_type": "code",
   "execution_count": 11,
   "metadata": {},
   "outputs": [
    {
     "name": "stdout",
     "output_type": "stream",
     "text": [
      "{'Movie 12': 9.086}\n"
     ]
    }
   ],
   "source": [
    "#лучший фильм для просмотра в выходные дома\n",
    "bestHomeWeekendFilm = dict([max(new_unrated_movies.items(), key=lambda x: x[1])])\n",
    "print(bestHomeWeekendFilm)"
   ]
  },
  {
   "cell_type": "code",
   "execution_count": 12,
   "metadata": {},
   "outputs": [
    {
     "name": "stdout",
     "output_type": "stream",
     "text": [
      "{'user': 17, '1': {'Movie 3': 2.086, 'Movie 4': 2.906, 'Movie 7': 2.834, 'Movie 8': 2.174, 'Movie 11': 3.102, 'Movie 12': 4.086, 'Movie 18': 3.327, 'Movie 26': 3.087}, '2': {'Movie 12': 9.086}}\n"
     ]
    }
   ],
   "source": [
    "#генерируем json-файл с результатми работы программы\n",
    "output = {\n",
    "    'user': myUserIndex + 1,\n",
    "    '1': unrated_movies,\n",
    "    '2': bestHomeWeekendFilm\n",
    "}\n",
    "print(output)\n",
    "with open('output.json', 'w') as file:\n",
    "    json.dump(output, file, indent = 8)"
   ]
  },
  {
   "cell_type": "code",
   "execution_count": 13,
   "metadata": {},
   "outputs": [
    {
     "name": "stdout",
     "output_type": "stream",
     "text": [
      "['The Godfather: Part II', 'The Dark Knight', 'The Lord of the Rings: The Return of the King', 'Pulp Fiction', 'The Lord of the Rings: The Fellowship of the Ring', 'Forrest Gump', 'The Matrix', 'The Usual Suspects']\n"
     ]
    }
   ],
   "source": [
    "# SPARQL в коде 3.2\n",
    "# определим названия фильмов, для которых находили оценки\n",
    "movieNames = pd.read_csv('movie_names.csv', delimiter=', ', names = ['index', 'name'], engine='python')\n",
    "movies = list(map(lambda x: x, unrated_movies.keys()))\n",
    "names = []\n",
    "for m in movies:\n",
    "     names.append(movieNames[movieNames['index'] == m].values[0][1])\n",
    "print(names)"
   ]
  },
  {
   "cell_type": "code",
   "execution_count": 24,
   "metadata": {},
   "outputs": [
    {
     "data": {
      "text/plain": [
       "{'The Godfather: Part II': 'Q202326',\n",
       " 'The Dark Knight': 'Q2695156',\n",
       " 'The Lord of the Rings: The Return of the King': 'Q131074',\n",
       " 'Pulp Fiction': 'Q104123',\n",
       " 'The Lord of the Rings: The Fellowship of the Ring': 'Q127367',\n",
       " 'Forrest Gump': 'Q134773',\n",
       " 'The Matrix': 'Q83495',\n",
       " 'The Usual Suspects': 'Q132351'}"
      ]
     },
     "execution_count": 24,
     "metadata": {},
     "output_type": "execute_result"
    }
   ],
   "source": [
    "# находим id фильмов на wikidata\n",
    "wikiIds = {}\n",
    "from SPARQLWrapper import SPARQLWrapper, JSON\n",
    "import requests\n",
    "from pandas import json_normalize\n",
    "API_ENDPOINT = \"https://www.wikidata.org/w/api.php\"\n",
    "for name in names:\n",
    "    params = {\n",
    "        'action' : 'wbsearchentities',\n",
    "        'format' : 'json',\n",
    "        'language' : 'en',\n",
    "        'search': name\n",
    "    }\n",
    "    res = requests.get(API_ENDPOINT, params = params)\n",
    "    wikiIds[name] = res.json()['search'][0]['id']\n",
    "wikiIds"
   ]
  },
  {
   "cell_type": "code",
   "execution_count": 28,
   "metadata": {},
   "outputs": [
    {
     "data": {
      "text/plain": [
       "[{'id': 'http://www.wikidata.org/entity/Q1198073', 'Film': 'Hud'},\n",
       " {'id': 'http://www.wikidata.org/entity/Q1143603',\n",
       "  'Film': 'The Vagabond King'},\n",
       " {'id': 'http://www.wikidata.org/entity/Q1196432', 'Film': 'The Rainmaker'},\n",
       " {'id': 'http://www.wikidata.org/entity/Q1219315',\n",
       "  'Film': 'Death Takes a Holiday'},\n",
       " {'id': 'http://www.wikidata.org/entity/Q1356395', 'Film': 'Alfie'},\n",
       " {'id': 'http://www.wikidata.org/entity/Q1167792',\n",
       "  'Film': 'The Family Jewels'},\n",
       " {'id': 'http://www.wikidata.org/entity/Q1197663',\n",
       "  'Film': 'The Disorderly Orderly'},\n",
       " {'id': 'http://www.wikidata.org/entity/Q1199439', 'Film': 'The Last Tycoon'},\n",
       " {'id': 'http://www.wikidata.org/entity/Q1206842', 'Film': 'The Devil Inside'},\n",
       " {'id': 'http://www.wikidata.org/entity/Q1211829',\n",
       "  'Film': 'The Bad News Bears'}]"
      ]
     },
     "execution_count": 28,
     "metadata": {},
     "output_type": "execute_result"
    }
   ],
   "source": [
    "# проходимся по всем id и для каждого выполняем sparql запрос к wikidata\n",
    "# результат запроса получаем в json, нормализуем его (преобразовываем в табличный вид)\n",
    "# films_studio['имя фильма'] - список, содержащий фильмы той же студии и ссылки на них в wikidata\n",
    "sparql = SPARQLWrapper(\"https://query.wikidata.org/sparql\")\n",
    "films_studio = {}\n",
    "for [name, wikiId] in list(wikiIds.items()):\n",
    "    sparql_query = \"\"\"\n",
    "SELECT DISTINCT ?item ?itemLabel WHERE {\n",
    "  ?film wdt:P272 ?studio FILTER(?film = wd:\"\"\" + wikiId + \"\"\") .\n",
    "  ?item wdt:P31 wd:Q11424.\n",
    "  ?item wdt:P272 ?studios FILTER(?studios = ?studio).\n",
    "  \n",
    "  SERVICE wikibase:label { bd:serviceParam wikibase:language \"[AUTO_LANGUAGE],en\". }\n",
    "}\"\"\"\n",
    "\n",
    "    sparql.setQuery(sparql_query)\n",
    "\n",
    "    sparql.setReturnFormat(JSON)\n",
    "    results = sparql.query().convert()\n",
    "    results_df = pd.json_normalize(results['results']['bindings'])\n",
    "    #print(results_df)\n",
    "    if results_df.size != 0:\n",
    "        ids = results_df[['item.value', 'itemLabel.value']]['item.value'].values\n",
    "        films = results_df[['item.value', 'itemLabel.value']]['itemLabel.value'].values\n",
    "        films_studio[name] = []\n",
    "        for i in range(len(ids)):\n",
    "            films_studio[name].append({ \"id\": ids[i], \"Film\": films[i] })\n",
    "    else:\n",
    "        films_studio[name] = []\n",
    "films_studio['Forrest Gump'][:10]"
   ]
  },
  {
   "cell_type": "code",
   "execution_count": null,
   "metadata": {},
   "outputs": [],
   "source": []
  }
 ],
 "metadata": {
  "kernelspec": {
   "display_name": "Python 3",
   "language": "python",
   "name": "python3"
  },
  "language_info": {
   "codemirror_mode": {
    "name": "ipython",
    "version": 3
   },
   "file_extension": ".py",
   "mimetype": "text/x-python",
   "name": "python",
   "nbconvert_exporter": "python",
   "pygments_lexer": "ipython3",
   "version": "3.8.5"
  }
 },
 "nbformat": 4,
 "nbformat_minor": 4
}
